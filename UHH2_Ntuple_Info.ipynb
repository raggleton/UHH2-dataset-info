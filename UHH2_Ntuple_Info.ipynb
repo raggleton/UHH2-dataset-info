{
 "cells": [
  {
   "cell_type": "markdown",
   "metadata": {},
   "source": [
    "Report about usage statistics of UHH2 ntuples."
   ]
  },
  {
   "cell_type": "code",
   "execution_count": 1,
   "metadata": {},
   "outputs": [],
   "source": [
    "from __future__ import print_function"
   ]
  },
  {
   "cell_type": "code",
   "execution_count": 2,
   "metadata": {
    "slideshow": {
     "slide_type": "skip"
    }
   },
   "outputs": [],
   "source": [
    "import numpy as np\n",
    "import pandas as pd\n",
    "import matplotlib as mpl\n",
    "import matplotlib.pyplot as plt"
   ]
  },
  {
   "cell_type": "code",
   "execution_count": 3,
   "metadata": {
    "slideshow": {
     "slide_type": "skip"
    }
   },
   "outputs": [],
   "source": [
    "%matplotlib inline"
   ]
  },
  {
   "cell_type": "code",
   "execution_count": 4,
   "metadata": {
    "slideshow": {
     "slide_type": "skip"
    }
   },
   "outputs": [],
   "source": [
    "mpl.rcParams['font.size'] = 16\n",
    "mpl.rcParams['figure.figsize'] = (10, 6)"
   ]
  },
  {
   "cell_type": "code",
   "execution_count": 5,
   "metadata": {},
   "outputs": [],
   "source": [
    "pd.options.display.max_colwidth = 200\n",
    "pd.options.display.float_format = lambda x : \"%4.2f\" % x"
   ]
  },
  {
   "cell_type": "code",
   "execution_count": 89,
   "metadata": {},
   "outputs": [],
   "source": [
    "def get_user_from_filename(ntuple_filename):\n",
    "    \"\"\"Get username from full filepath\n",
    "\n",
    "    Assumes it comes after .../user/\n",
    "    e.g. :\n",
    "    get_user_from_filename(\"/nfs/dust/cms/user/robin/UHH2/Ntuple_2016v2.root\")\n",
    "    >> robin\n",
    "\n",
    "    Parameters\n",
    "    ----------\n",
    "    ntuple_filename : str\n",
    "\n",
    "    Returns\n",
    "    -------\n",
    "    str\n",
    "        Username, or None if not found\n",
    "    \"\"\"\n",
    "    if \"/user/\" not in ntuple_filename:\n",
    "        return ''\n",
    "    parts = ntuple_filename.split(\"/\")\n",
    "    ind = parts.index(\"user\")\n",
    "    if ind == len(parts)-1:\n",
    "        return ''\n",
    "    return parts[ind+1]"
   ]
  },
  {
   "cell_type": "code",
   "execution_count": 91,
   "metadata": {
    "slideshow": {
     "slide_type": "skip"
    }
   },
   "outputs": [],
   "source": [
    "# Load dataset - CHANGE FILENAME AS APPLICABLE\n",
    "def get_dataframe(csv_filename, year=None):\n",
    "    this_df = pd.read_csv(csv_filename, index_col=0, low_memory=False)\n",
    "\n",
    "    # remove double slashes\n",
    "    this_df['ntuple'] = this_df['ntuple'].str.replace('//', '/', regex=False)\n",
    "    # redo user\n",
    "    this_df['user'] = this_df['ntuple'].map(lambda x: get_user_from_filename(x))\n",
    "    \n",
    "    # cast certain columns as Categorical type to save space/time\n",
    "    this_df.loc[this_df['user'].str.match('karavdia'), 'user'] = 'akaravdi' # relabel anastasia's other username\n",
    "    this_df['user'] = this_df['user'].astype('category')\n",
    "    this_df['xmldir'] = this_df['xmldir'].astype('category')\n",
    "    if year:\n",
    "        this_df['year'] = year\n",
    "    this_df['year'] = this_df['year'].astype('category')\n",
    "    this_df['isdata'] = this_df['ntuple'].str.contains('DATA_')\n",
    "\n",
    "    # Try and figure out which dataset file come from:\n",
    "    this_df['dataset'] = np.nan\n",
    "    # this is the recommended way to set values based on value of another column\n",
    "    this_df.loc[this_df['ntuple'].str.contains('_JetHT'), 'dataset'] = 'JetHT'\n",
    "    this_df.loc[this_df['ntuple'].str.contains('_SingleMu'), 'dataset'] = 'SingleMu'\n",
    "    this_df.loc[this_df['ntuple'].str.contains('_EGamma'), 'dataset'] = 'EGamma'\n",
    "    this_df.loc[this_df['ntuple'].str.contains('_MET'), 'dataset'] = 'MET'\n",
    "    this_df.loc[this_df['ntuple'].str.contains('_SingleElectron'), 'dataset'] = 'SingleElectron'\n",
    "    this_df.loc[this_df['ntuple'].str.contains('_SinglePhoton'), 'dataset'] = 'SinglePhoton'\n",
    "    this_df['dataset'] = this_df['dataset'].astype('category')\n",
    "    \n",
    "    return this_df"
   ]
  },
  {
   "cell_type": "code",
   "execution_count": 92,
   "metadata": {},
   "outputs": [],
   "source": [
    "df = get_dataframe(\"datasetinfo_102X_10_7_19.csv\")"
   ]
  },
  {
   "cell_type": "code",
   "execution_count": 93,
   "metadata": {
    "slideshow": {
     "slide_type": "skip"
    }
   },
   "outputs": [
    {
     "data": {
      "text/html": [
       "<div>\n",
       "<style scoped>\n",
       "    .dataframe tbody tr th:only-of-type {\n",
       "        vertical-align: middle;\n",
       "    }\n",
       "\n",
       "    .dataframe tbody tr th {\n",
       "        vertical-align: top;\n",
       "    }\n",
       "\n",
       "    .dataframe thead th {\n",
       "        text-align: right;\n",
       "    }\n",
       "</style>\n",
       "<table border=\"1\" class=\"dataframe\">\n",
       "  <thead>\n",
       "    <tr style=\"text-align: right;\">\n",
       "      <th></th>\n",
       "      <th>ntuple</th>\n",
       "      <th>size</th>\n",
       "      <th>user</th>\n",
       "      <th>xmldir</th>\n",
       "      <th>year</th>\n",
       "      <th>isdata</th>\n",
       "      <th>dataset</th>\n",
       "    </tr>\n",
       "  </thead>\n",
       "  <tbody>\n",
       "    <tr>\n",
       "      <th>0</th>\n",
       "      <td>/pnfs/desy.de/cms/tier2/store/user/drberry/SFrameNtuples/RunII_102X_v1/2018/QCD_Pt-800to1000_MuEnrichedPt5_TuneCP5_13TeV_pythia8/QCD_Pt-800to1000_MuEnrichedPt5_TuneCP5_13TeV_pythia8_ext3-v2/190419...</td>\n",
       "      <td>514.20</td>\n",
       "      <td>drberry</td>\n",
       "      <td>2018</td>\n",
       "      <td>2018</td>\n",
       "      <td>False</td>\n",
       "      <td>NaN</td>\n",
       "    </tr>\n",
       "    <tr>\n",
       "      <th>1</th>\n",
       "      <td>/pnfs/desy.de/cms/tier2/store/user/drberry/SFrameNtuples/RunII_102X_v1/2018/QCD_Pt-800to1000_MuEnrichedPt5_TuneCP5_13TeV_pythia8/QCD_Pt-800to1000_MuEnrichedPt5_TuneCP5_13TeV_pythia8_ext3-v2/190419...</td>\n",
       "      <td>503.68</td>\n",
       "      <td>drberry</td>\n",
       "      <td>2018</td>\n",
       "      <td>2018</td>\n",
       "      <td>False</td>\n",
       "      <td>NaN</td>\n",
       "    </tr>\n",
       "    <tr>\n",
       "      <th>2</th>\n",
       "      <td>/pnfs/desy.de/cms/tier2/store/user/drberry/SFrameNtuples/RunII_102X_v1/2018/QCD_Pt-800to1000_MuEnrichedPt5_TuneCP5_13TeV_pythia8/QCD_Pt-800to1000_MuEnrichedPt5_TuneCP5_13TeV_pythia8_ext3-v2/190419...</td>\n",
       "      <td>554.39</td>\n",
       "      <td>drberry</td>\n",
       "      <td>2018</td>\n",
       "      <td>2018</td>\n",
       "      <td>False</td>\n",
       "      <td>NaN</td>\n",
       "    </tr>\n",
       "    <tr>\n",
       "      <th>3</th>\n",
       "      <td>/pnfs/desy.de/cms/tier2/store/user/drberry/SFrameNtuples/RunII_102X_v1/2018/QCD_Pt-800to1000_MuEnrichedPt5_TuneCP5_13TeV_pythia8/QCD_Pt-800to1000_MuEnrichedPt5_TuneCP5_13TeV_pythia8_ext3-v2/190419...</td>\n",
       "      <td>504.66</td>\n",
       "      <td>drberry</td>\n",
       "      <td>2018</td>\n",
       "      <td>2018</td>\n",
       "      <td>False</td>\n",
       "      <td>NaN</td>\n",
       "    </tr>\n",
       "    <tr>\n",
       "      <th>4</th>\n",
       "      <td>/pnfs/desy.de/cms/tier2/store/user/drberry/SFrameNtuples/RunII_102X_v1/2018/QCD_Pt-800to1000_MuEnrichedPt5_TuneCP5_13TeV_pythia8/QCD_Pt-800to1000_MuEnrichedPt5_TuneCP5_13TeV_pythia8_ext3-v2/190419...</td>\n",
       "      <td>504.46</td>\n",
       "      <td>drberry</td>\n",
       "      <td>2018</td>\n",
       "      <td>2018</td>\n",
       "      <td>False</td>\n",
       "      <td>NaN</td>\n",
       "    </tr>\n",
       "  </tbody>\n",
       "</table>\n",
       "</div>"
      ],
      "text/plain": [
       "                                                                                                                                                                                                    ntuple  \\\n",
       "0  /pnfs/desy.de/cms/tier2/store/user/drberry/SFrameNtuples/RunII_102X_v1/2018/QCD_Pt-800to1000_MuEnrichedPt5_TuneCP5_13TeV_pythia8/QCD_Pt-800to1000_MuEnrichedPt5_TuneCP5_13TeV_pythia8_ext3-v2/190419...   \n",
       "1  /pnfs/desy.de/cms/tier2/store/user/drberry/SFrameNtuples/RunII_102X_v1/2018/QCD_Pt-800to1000_MuEnrichedPt5_TuneCP5_13TeV_pythia8/QCD_Pt-800to1000_MuEnrichedPt5_TuneCP5_13TeV_pythia8_ext3-v2/190419...   \n",
       "2  /pnfs/desy.de/cms/tier2/store/user/drberry/SFrameNtuples/RunII_102X_v1/2018/QCD_Pt-800to1000_MuEnrichedPt5_TuneCP5_13TeV_pythia8/QCD_Pt-800to1000_MuEnrichedPt5_TuneCP5_13TeV_pythia8_ext3-v2/190419...   \n",
       "3  /pnfs/desy.de/cms/tier2/store/user/drberry/SFrameNtuples/RunII_102X_v1/2018/QCD_Pt-800to1000_MuEnrichedPt5_TuneCP5_13TeV_pythia8/QCD_Pt-800to1000_MuEnrichedPt5_TuneCP5_13TeV_pythia8_ext3-v2/190419...   \n",
       "4  /pnfs/desy.de/cms/tier2/store/user/drberry/SFrameNtuples/RunII_102X_v1/2018/QCD_Pt-800to1000_MuEnrichedPt5_TuneCP5_13TeV_pythia8/QCD_Pt-800to1000_MuEnrichedPt5_TuneCP5_13TeV_pythia8_ext3-v2/190419...   \n",
       "\n",
       "    size     user xmldir  year  isdata dataset  \n",
       "0 514.20  drberry   2018  2018   False     NaN  \n",
       "1 503.68  drberry   2018  2018   False     NaN  \n",
       "2 554.39  drberry   2018  2018   False     NaN  \n",
       "3 504.66  drberry   2018  2018   False     NaN  \n",
       "4 504.46  drberry   2018  2018   False     NaN  "
      ]
     },
     "execution_count": 93,
     "metadata": {},
     "output_type": "execute_result"
    }
   ],
   "source": [
    "df.head()"
   ]
  },
  {
   "cell_type": "code",
   "execution_count": 53,
   "metadata": {
    "slideshow": {
     "slide_type": "skip"
    }
   },
   "outputs": [
    {
     "data": {
      "text/plain": [
       "ntuple       object\n",
       "size        float64\n",
       "user       category\n",
       "xmldir     category\n",
       "year       category\n",
       "isdata         bool\n",
       "dataset    category\n",
       "dtype: object"
      ]
     },
     "execution_count": 53,
     "metadata": {},
     "output_type": "execute_result"
    }
   ],
   "source": [
    "df.dtypes"
   ]
  },
  {
   "cell_type": "code",
   "execution_count": 102,
   "metadata": {},
   "outputs": [],
   "source": [
    "df_102X = get_dataframe(\"datasetinfo_102X_10_7_19.csv\")\n",
    "df_94v1 = get_dataframe(\"datasetinfo_94v1_10_7_19.csv\", \"2017_94v1\")\n",
    "df_94v2 = get_dataframe(\"datasetinfo_94v2_10_7_19.csv\", \"2017_94v2\")\n",
    "df_94v3 = get_dataframe(\"datasetinfo_94v3_10_7_19.csv\", \"2017_94v3\")\n",
    "df_80v3 = get_dataframe(\"datasetinfo_80v3_10_7_19.csv\", \"2016_80v3\")\n",
    "df_80v3_egreg = get_dataframe(\"datasetinfo_80v3_EGReg_10_7_19.csv\", \"2016_80v3_egreg\")\n",
    "df_80v5 = get_dataframe(\"datasetinfo_80v5_10_7_19.csv\", \"2016_80v5\")\n",
    "df_94v1_woHOTVR_woXCone = get_dataframe(\"datasetinfo_94v1_woHOTVR_woXCone_10_7_19.csv\", \"2017_94v1_woHOTVRXCone\")"
   ]
  },
  {
   "cell_type": "code",
   "execution_count": 103,
   "metadata": {},
   "outputs": [],
   "source": [
    "df_total = pd.concat([df_102X, df_94v1, df_94v2, df_94v3, df_80v3, df_80v3_egreg, df_80v5, df_94v1_woHOTVR_woXCone], ignore_index=True)"
   ]
  },
  {
   "cell_type": "code",
   "execution_count": 54,
   "metadata": {
    "slideshow": {
     "slide_type": "skip"
    }
   },
   "outputs": [],
   "source": [
    "total_size_mb = df['size'].sum()\n",
    "MB_TO_TB = 1024*1024."
   ]
  },
  {
   "cell_type": "code",
   "execution_count": 104,
   "metadata": {},
   "outputs": [
    {
     "name": "stdout",
     "output_type": "stream",
     "text": [
      "102X: 117.017 TB \n",
      "94v1: 3.174 TB \n",
      "94v2: 10.038 TB \n",
      "94v3: 0.485 TB \n",
      "80v3: 42.762 TB \n",
      "80v3_egreg: 0.284 TB \n",
      "80v5: 17.759 TB \n",
      "94v1_woHOTVR_woXCone: 10.075 TB \n",
      "\n",
      "TOTAL: 201.593 TB\n"
     ]
    }
   ],
   "source": [
    "print('102X: %.3f TB ' % (df_102X['size'].sum() / MB_TO_TB))\n",
    "print('94v1: %.3f TB ' % (df_94v1['size'].sum() / MB_TO_TB))\n",
    "print('94v2: %.3f TB ' % (df_94v2['size'].sum() / MB_TO_TB))\n",
    "print('94v3: %.3f TB ' % (df_94v3['size'].sum() / MB_TO_TB))\n",
    "print('80v3: %.3f TB ' % (df_80v3['size'].sum() / MB_TO_TB))\n",
    "print('80v3_egreg: %.3f TB ' % (df_80v3_egreg['size'].sum() / MB_TO_TB))\n",
    "print('80v5: %.3f TB ' % (df_80v5['size'].sum() / MB_TO_TB))\n",
    "print('94v1_woHOTVR_woXCone: %.3f TB ' % (df_94v1_woHOTVR_woXCone['size'].sum() / MB_TO_TB))\n",
    "print(\"\")\n",
    "print(\"TOTAL: %.3f TB\" % (df_total['size'].sum() / MB_TO_TB))"
   ]
  },
  {
   "cell_type": "markdown",
   "metadata": {},
   "source": [
    "## General stats"
   ]
  },
  {
   "cell_type": "code",
   "execution_count": 118,
   "metadata": {
    "slideshow": {
     "slide_type": "skip"
    }
   },
   "outputs": [
    {
     "name": "stdout",
     "output_type": "stream",
     "text": [
      "1240152 files\n"
     ]
    }
   ],
   "source": [
    "print(len(df_total.index), \"files\")"
   ]
  },
  {
   "cell_type": "code",
   "execution_count": 119,
   "metadata": {
    "slideshow": {
     "slide_type": "slide"
    }
   },
   "outputs": [
    {
     "name": "stdout",
     "output_type": "stream",
     "text": [
      "Total size of all ntuples: 201.593 TB\n"
     ]
    }
   ],
   "source": [
    "print(\"Total size of all ntuples: %.3f TB\" % (total_size_mb / MB_TO_TB))\n",
    "# NB be careful - don't access with df.size as calls internal size!"
   ]
  },
  {
   "cell_type": "code",
   "execution_count": 120,
   "metadata": {},
   "outputs": [],
   "source": [
    "n_users = df_total['user'].nunique()"
   ]
  },
  {
   "cell_type": "code",
   "execution_count": 121,
   "metadata": {
    "slideshow": {
     "slide_type": "-"
    }
   },
   "outputs": [
    {
     "name": "stdout",
     "output_type": "stream",
     "text": [
      "Average space used per user (25): 8.064 TB\n"
     ]
    }
   ],
   "source": [
    "print('Average space used per user (%d): %.3f TB' % (n_users, total_size_mb / (MB_TO_TB * n_users)))"
   ]
  },
  {
   "cell_type": "code",
   "execution_count": 122,
   "metadata": {
    "slideshow": {
     "slide_type": "slide"
    }
   },
   "outputs": [
    {
     "name": "stdout",
     "output_type": "stream",
     "text": [
      "Statistics for ntuple filesizes:\n"
     ]
    },
    {
     "data": {
      "text/plain": [
       "count   1240152.00\n",
       "mean        170.45\n",
       "std         162.16\n",
       "min           0.01\n",
       "25%          76.18\n",
       "50%         137.90\n",
       "75%         206.48\n",
       "max        3808.24\n",
       "Name: size, dtype: float64"
      ]
     },
     "execution_count": 122,
     "metadata": {},
     "output_type": "execute_result"
    }
   ],
   "source": [
    "print(\"Statistics for ntuple filesizes:\")\n",
    "df_total['size'].describe()"
   ]
  },
  {
   "cell_type": "code",
   "execution_count": 124,
   "metadata": {
    "slideshow": {
     "slide_type": "subslide"
    }
   },
   "outputs": [
    {
     "data": {
      "image/png": "[encoded data removed]",
      "text/plain": [
       "<Figure size 720x432 with 1 Axes>"
      ]
     },
     "metadata": {
      "needs_background": "light"
     },
     "output_type": "display_data"
    }
   ],
   "source": [
    "df_total['size'].plot(kind='hist', bins=50);\n",
    "plt.xlabel('Ntuple size [MB]');\n",
    "plt.yscale('log');\n",
    "plt.title(\"Histogram of ntuple filesize (log y-axis)\");"
   ]
  },
  {
   "cell_type": "markdown",
   "metadata": {
    "slideshow": {
     "slide_type": "slide"
    }
   },
   "source": [
    "## Split by user"
   ]
  },
  {
   "cell_type": "code",
   "execution_count": 117,
   "metadata": {},
   "outputs": [
    {
     "name": "stdout",
     "output_type": "stream",
     "text": [
      "25 unique users\n"
     ]
    }
   ],
   "source": [
    "print(df_total['user'].nunique(), \"unique users\")"
   ]
  },
  {
   "cell_type": "code",
   "execution_count": 115,
   "metadata": {
    "slideshow": {
     "slide_type": "slide"
    }
   },
   "outputs": [
    {
     "name": "stdout",
     "output_type": "stream",
     "text": [
      "Total space usage per user [TB]:\n",
      "user\n",
      "akaravdi   66.95\n",
      "raggleto   16.70\n",
      "drberry    14.58\n",
      "rkogler    13.59\n",
      "jmulthau   12.83\n",
      "salbrech   11.63\n",
      "pgunnell   11.11\n",
      "deschwar   10.83\n",
      "todreyer    8.86\n",
      "tiroy       5.44\n",
      "izoi        5.43\n",
      "peiffer     4.49\n",
      "dagonzal    3.91\n",
      "cgarbers    3.47\n",
      "anmalara    2.85\n",
      "cmatthie    2.44\n",
      "afroehli    1.97\n",
      "sschuman    1.47\n",
      "alschmid    1.35\n",
      "areimers    1.22\n",
      "abenecke    0.16\n",
      "aggleton    0.15\n",
      "xuchen      0.12\n",
      "mstoever    0.05\n",
      "isandova    0.02\n",
      "Name: size, dtype: float64\n"
     ]
    }
   ],
   "source": [
    "print(\"Total space usage per user [TB]:\")\n",
    "usage_user = df_total.groupby('user')['size'].sum().sort_values(ascending=False) / MB_TO_TB\n",
    "print(usage_user)"
   ]
  },
  {
   "cell_type": "code",
   "execution_count": 116,
   "metadata": {},
   "outputs": [
    {
     "data": {
      "image/png": "[encoded data removed]",
      "text/plain": [
       "<Figure size 720x432 with 1 Axes>"
      ]
     },
     "metadata": {},
     "output_type": "display_data"
    }
   ],
   "source": [
    "plt.pie(usage_user, labels=usage_user.index.tolist(), autopct=\"%.1f%%\", labeldistance=1.1, pctdistance=0.75);\n",
    "plt.gca().axis('equal');"
   ]
  },
  {
   "cell_type": "code",
   "execution_count": 127,
   "metadata": {
    "slideshow": {
     "slide_type": "subslide"
    }
   },
   "outputs": [
    {
     "data": {
      "image/png": "[encoded data removed]",
      "text/plain": [
       "<Figure size 720x432 with 1 Axes>"
      ]
     },
     "metadata": {
      "needs_background": "light"
     },
     "output_type": "display_data"
    }
   ],
   "source": [
    "usage_user.plot(kind='bar');\n",
    "plt.xlabel('User');\n",
    "plt.ylabel('Total space usage [TB]');"
   ]
  },
  {
   "cell_type": "code",
   "execution_count": 114,
   "metadata": {
    "slideshow": {
     "slide_type": "subslide"
    }
   },
   "outputs": [
    {
     "name": "stdout",
     "output_type": "stream",
     "text": [
      "% space usage by user:\n"
     ]
    },
    {
     "data": {
      "text/plain": [
       "user\n",
       "akaravdi   33.21\n",
       "raggleto    8.28\n",
       "drberry     7.23\n",
       "rkogler     6.74\n",
       "jmulthau    6.37\n",
       "salbrech    5.77\n",
       "pgunnell    5.51\n",
       "deschwar    5.37\n",
       "todreyer    4.40\n",
       "tiroy       2.70\n",
       "izoi        2.69\n",
       "peiffer     2.23\n",
       "dagonzal    1.94\n",
       "cgarbers    1.72\n",
       "anmalara    1.41\n",
       "cmatthie    1.21\n",
       "afroehli    0.98\n",
       "sschuman    0.73\n",
       "alschmid    0.67\n",
       "areimers    0.61\n",
       "abenecke    0.08\n",
       "aggleton    0.07\n",
       "xuchen      0.06\n",
       "mstoever    0.02\n",
       "isandova    0.01\n",
       "Name: size, dtype: float64"
      ]
     },
     "execution_count": 114,
     "metadata": {},
     "output_type": "execute_result"
    }
   ],
   "source": [
    "print(\"% space usage by user:\")\n",
    "100 * df_total.groupby('user')['size'].sum().sort_values(ascending=False) / total_size_mb"
   ]
  },
  {
   "cell_type": "code",
   "execution_count": 112,
   "metadata": {
    "slideshow": {
     "slide_type": "slide"
    }
   },
   "outputs": [
    {
     "name": "stdout",
     "output_type": "stream",
     "text": [
      "# files per user:\n"
     ]
    },
    {
     "data": {
      "text/plain": [
       "akaravdi    366425\n",
       "deschwar    127518\n",
       "drberry      99898\n",
       "todreyer     99046\n",
       "pgunnell     86195\n",
       "raggleto     68497\n",
       "cgarbers     52151\n",
       "rkogler      50410\n",
       "salbrech     41546\n",
       "peiffer      34501\n",
       "dagonzal     33787\n",
       "jmulthau     33207\n",
       "cmatthie     32530\n",
       "sschuman     24519\n",
       "izoi         21890\n",
       "afroehli     18749\n",
       "tiroy        16209\n",
       "anmalara     11209\n",
       "areimers     10789\n",
       "alschmid      8556\n",
       "aggleton       905\n",
       "abenecke       849\n",
       "isandova       393\n",
       "xuchen         245\n",
       "mstoever       128\n",
       "Name: user, dtype: int64"
      ]
     },
     "execution_count": 112,
     "metadata": {},
     "output_type": "execute_result"
    }
   ],
   "source": [
    "print('# files per user:')\n",
    "df_total.user.value_counts()"
   ]
  },
  {
   "cell_type": "code",
   "execution_count": 113,
   "metadata": {
    "slideshow": {
     "slide_type": "subslide"
    }
   },
   "outputs": [
    {
     "data": {
      "image/png": "[encoded data removed]",
      "text/plain": [
       "<Figure size 720x432 with 1 Axes>"
      ]
     },
     "metadata": {
      "needs_background": "light"
     },
     "output_type": "display_data"
    }
   ],
   "source": [
    "df_total.user.value_counts().plot(kind='bar');\n",
    "plt.xlabel('User');\n",
    "plt.ylabel('# files');"
   ]
  },
  {
   "cell_type": "markdown",
   "metadata": {
    "slideshow": {
     "slide_type": "slide"
    }
   },
   "source": [
    "## Split by dataset year"
   ]
  },
  {
   "cell_type": "code",
   "execution_count": 107,
   "metadata": {
    "slideshow": {
     "slide_type": "slide"
    }
   },
   "outputs": [
    {
     "name": "stdout",
     "output_type": "stream",
     "text": [
      "Total space usage per dataset year [TB]:\n"
     ]
    },
    {
     "data": {
      "text/plain": [
       "year\n",
       "2016_80v3                42.76\n",
       "2016_80v3_egreg           0.28\n",
       "2016_80v5                17.76\n",
       "2016v2                    0.75\n",
       "2016v3                   46.27\n",
       "2017                     20.95\n",
       "2017_94v1                 3.17\n",
       "2017_94v1_woHOTVRXCone   10.07\n",
       "2017_94v2                10.04\n",
       "2017_94v3                 0.49\n",
       "2018                     49.04\n",
       "Name: size, dtype: float64"
      ]
     },
     "execution_count": 107,
     "metadata": {},
     "output_type": "execute_result"
    }
   ],
   "source": [
    "print('Total space usage per dataset year [TB]:')\n",
    "df_total.groupby('year')['size'].sum() / MB_TO_TB"
   ]
  },
  {
   "cell_type": "code",
   "execution_count": 108,
   "metadata": {
    "slideshow": {
     "slide_type": "subslide"
    }
   },
   "outputs": [
    {
     "name": "stdout",
     "output_type": "stream",
     "text": [
      "% space usage per dataset year:\n"
     ]
    },
    {
     "data": {
      "text/plain": [
       "year\n",
       "2016_80v3                21.21\n",
       "2016_80v3_egreg           0.14\n",
       "2016_80v5                 8.81\n",
       "2016v2                    0.37\n",
       "2016v3                   22.95\n",
       "2017                     10.39\n",
       "2017_94v1                 1.57\n",
       "2017_94v1_woHOTVRXCone    5.00\n",
       "2017_94v2                 4.98\n",
       "2017_94v3                 0.24\n",
       "2018                     24.33\n",
       "Name: size, dtype: float64"
      ]
     },
     "execution_count": 108,
     "metadata": {},
     "output_type": "execute_result"
    }
   ],
   "source": [
    "print('% space usage per dataset year:')\n",
    "100. * df_total.groupby('year')['size'].sum() / total_size_mb"
   ]
  },
  {
   "cell_type": "code",
   "execution_count": 109,
   "metadata": {
    "slideshow": {
     "slide_type": "slide"
    }
   },
   "outputs": [
    {
     "name": "stdout",
     "output_type": "stream",
     "text": [
      "# files per dataset year:\n"
     ]
    },
    {
     "data": {
      "text/plain": [
       "2016_80v3                 324289\n",
       "2018                      204694\n",
       "2016_80v5                 197234\n",
       "2016v3                    130926\n",
       "2017_94v1_woHOTVRXCone    118522\n",
       "2017                      111112\n",
       "2017_94v2                  94029\n",
       "2017_94v1                  48761\n",
       "2016_80v3_egreg             3900\n",
       "2016v2                      3701\n",
       "2017_94v3                   2984\n",
       "Name: year, dtype: int64"
      ]
     },
     "execution_count": 109,
     "metadata": {},
     "output_type": "execute_result"
    }
   ],
   "source": [
    "print(\"# files per dataset year:\")\n",
    "df_total['year'].value_counts()"
   ]
  },
  {
   "cell_type": "markdown",
   "metadata": {
    "slideshow": {
     "slide_type": "slide"
    }
   },
   "source": [
    "## Split by data/MC"
   ]
  },
  {
   "cell_type": "code",
   "execution_count": 110,
   "metadata": {
    "slideshow": {
     "slide_type": "slide"
    }
   },
   "outputs": [
    {
     "name": "stdout",
     "output_type": "stream",
     "text": [
      "Total space used per data/MC [TB]:\n"
     ]
    },
    {
     "data": {
      "text/plain": [
       "isdata\n",
       "False   156.05\n",
       "True     45.54\n",
       "Name: size, dtype: float64"
      ]
     },
     "execution_count": 110,
     "metadata": {},
     "output_type": "execute_result"
    }
   ],
   "source": [
    "print('Total space used per data/MC [TB]:')\n",
    "df_total.groupby('isdata')['size'].sum() / MB_TO_TB"
   ]
  },
  {
   "cell_type": "code",
   "execution_count": 111,
   "metadata": {
    "slideshow": {
     "slide_type": "subslide"
    }
   },
   "outputs": [
    {
     "name": "stdout",
     "output_type": "stream",
     "text": [
      "Total space used per primary dataset [TB]:\n"
     ]
    },
    {
     "data": {
      "text/plain": [
       "dataset\n",
       "EGamma     11.43\n",
       "JetHT      26.18\n",
       "SingleMu    6.64\n",
       "Name: size, dtype: float64"
      ]
     },
     "execution_count": 111,
     "metadata": {},
     "output_type": "execute_result"
    }
   ],
   "source": [
    "print('Total space used per primary dataset [TB]:')\n",
    "df_total[df_total['isdata']].groupby('dataset')['size'].sum() / MB_TO_TB"
   ]
  },
  {
   "cell_type": "code",
   "execution_count": null,
   "metadata": {},
   "outputs": [],
   "source": []
  }
 ],
 "metadata": {
  "kernelspec": {
   "display_name": "Python 3",
   "language": "python",
   "name": "python3"
  },
  "language_info": {
   "codemirror_mode": {
    "name": "ipython",
    "version": 3
   },
   "file_extension": ".py",
   "mimetype": "text/x-python",
   "name": "python",
   "nbconvert_exporter": "python",
   "pygments_lexer": "ipython3",
   "version": "3.7.1"
  }
 },
 "nbformat": 4,
 "nbformat_minor": 2
}
