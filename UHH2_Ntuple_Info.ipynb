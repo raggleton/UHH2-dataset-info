{
 "cells": [
  {
   "cell_type": "markdown",
   "metadata": {},
   "source": [
    "Report about usage statistics of UHH2 ntuples."
   ]
  },
  {
   "cell_type": "code",
   "execution_count": 1,
   "metadata": {},
   "outputs": [],
   "source": [
    "from __future__ import print_function"
   ]
  },
  {
   "cell_type": "code",
   "execution_count": 2,
   "metadata": {
    "slideshow": {
     "slide_type": "skip"
    }
   },
   "outputs": [],
   "source": [
    "import numpy as np\n",
    "import pandas as pd\n",
    "import matplotlib as mpl\n",
    "import matplotlib.pyplot as plt"
   ]
  },
  {
   "cell_type": "code",
   "execution_count": 3,
   "metadata": {
    "slideshow": {
     "slide_type": "skip"
    }
   },
   "outputs": [],
   "source": [
    "%matplotlib inline"
   ]
  },
  {
   "cell_type": "code",
   "execution_count": 4,
   "metadata": {
    "slideshow": {
     "slide_type": "skip"
    }
   },
   "outputs": [],
   "source": [
    "mpl.rcParams['font.size'] = 16\n",
    "mpl.rcParams['figure.figsize'] = (10, 6)"
   ]
  },
  {
   "cell_type": "code",
   "execution_count": 12,
   "metadata": {},
   "outputs": [],
   "source": [
    "pd.options.display.max_colwidth = 200\n",
    "pd.options.display.float_format = lambda x : \"%.2f\" % x"
   ]
  },
  {
   "cell_type": "code",
   "execution_count": 32,
   "metadata": {
    "slideshow": {
     "slide_type": "skip"
    }
   },
   "outputs": [],
   "source": [
    "df = pd.read_csv(\"datasetinfo_full.csv\", index_col=0, low_memory=False)\n",
    "\n",
    "# cast certain columns as Categorical type to save space/time\n",
    "df.loc[df['user'].str.match('karavdia'), 'user'] = 'akaravdi' # relabel anastasia's other username\n",
    "df['user'] = df['user'].astype('category')\n",
    "df['xmldir'] = df['xmldir'].astype('category')\n",
    "df['year'] = df['year'].astype('category')\n",
    "df['isdata'] = df['ntuple'].str.contains('DATA_')\n",
    "\n",
    "# Try and figure out which dataset file come from:\n",
    "df['dataset'] = np.nan\n",
    "# this is the recommended way to set values based on value of another column\n",
    "df.loc[df['ntuple'].str.contains('_JetHT'), 'dataset'] = 'JetHT'\n",
    "df.loc[df['ntuple'].str.contains('_SingleMu'), 'dataset'] = 'SingleMu'\n",
    "df.loc[df['ntuple'].str.contains('_EGamma'), 'dataset'] = 'EGamma'\n",
    "df.loc[df['ntuple'].str.contains('_MET'), 'dataset'] = 'MET'\n",
    "df.loc[df['ntuple'].str.contains('_SingleElectron'), 'dataset'] = 'SingleElectron'\n",
    "df['dataset'] = df['dataset'].astype('category')"
   ]
  },
  {
   "cell_type": "code",
   "execution_count": 33,
   "metadata": {
    "slideshow": {
     "slide_type": "skip"
    }
   },
   "outputs": [
    {
     "data": {
      "text/html": [
       "<div>\n",
       "<style scoped>\n",
       "    .dataframe tbody tr th:only-of-type {\n",
       "        vertical-align: middle;\n",
       "    }\n",
       "\n",
       "    .dataframe tbody tr th {\n",
       "        vertical-align: top;\n",
       "    }\n",
       "\n",
       "    .dataframe thead th {\n",
       "        text-align: right;\n",
       "    }\n",
       "</style>\n",
       "<table border=\"1\" class=\"dataframe\">\n",
       "  <thead>\n",
       "    <tr style=\"text-align: right;\">\n",
       "      <th></th>\n",
       "      <th>ntuple</th>\n",
       "      <th>size</th>\n",
       "      <th>user</th>\n",
       "      <th>xmldir</th>\n",
       "      <th>year</th>\n",
       "      <th>isdata</th>\n",
       "      <th>dataset</th>\n",
       "    </tr>\n",
       "  </thead>\n",
       "  <tbody>\n",
       "    <tr>\n",
       "      <th>0</th>\n",
       "      <td>/pnfs/desy.de/cms/tier2/store/user/drberry/SFrameNtuples/RunII_102X_v1/2018/QCD_Pt-800to1000_MuEnrichedPt5_TuneCP5_13TeV_pythia8/QCD_Pt-800to1000_MuEnrichedPt5_TuneCP5_13TeV_pythia8_ext3-v2/190419...</td>\n",
       "      <td>514.20</td>\n",
       "      <td>drberry</td>\n",
       "      <td>2018</td>\n",
       "      <td>2018</td>\n",
       "      <td>False</td>\n",
       "      <td>NaN</td>\n",
       "    </tr>\n",
       "    <tr>\n",
       "      <th>1</th>\n",
       "      <td>/pnfs/desy.de/cms/tier2/store/user/drberry/SFrameNtuples/RunII_102X_v1/2018/QCD_Pt-800to1000_MuEnrichedPt5_TuneCP5_13TeV_pythia8/QCD_Pt-800to1000_MuEnrichedPt5_TuneCP5_13TeV_pythia8_ext3-v2/190419...</td>\n",
       "      <td>503.68</td>\n",
       "      <td>drberry</td>\n",
       "      <td>2018</td>\n",
       "      <td>2018</td>\n",
       "      <td>False</td>\n",
       "      <td>NaN</td>\n",
       "    </tr>\n",
       "    <tr>\n",
       "      <th>2</th>\n",
       "      <td>/pnfs/desy.de/cms/tier2/store/user/drberry/SFrameNtuples/RunII_102X_v1/2018/QCD_Pt-800to1000_MuEnrichedPt5_TuneCP5_13TeV_pythia8/QCD_Pt-800to1000_MuEnrichedPt5_TuneCP5_13TeV_pythia8_ext3-v2/190419...</td>\n",
       "      <td>554.39</td>\n",
       "      <td>drberry</td>\n",
       "      <td>2018</td>\n",
       "      <td>2018</td>\n",
       "      <td>False</td>\n",
       "      <td>NaN</td>\n",
       "    </tr>\n",
       "    <tr>\n",
       "      <th>3</th>\n",
       "      <td>/pnfs/desy.de/cms/tier2/store/user/drberry/SFrameNtuples/RunII_102X_v1/2018/QCD_Pt-800to1000_MuEnrichedPt5_TuneCP5_13TeV_pythia8/QCD_Pt-800to1000_MuEnrichedPt5_TuneCP5_13TeV_pythia8_ext3-v2/190419...</td>\n",
       "      <td>504.66</td>\n",
       "      <td>drberry</td>\n",
       "      <td>2018</td>\n",
       "      <td>2018</td>\n",
       "      <td>False</td>\n",
       "      <td>NaN</td>\n",
       "    </tr>\n",
       "    <tr>\n",
       "      <th>4</th>\n",
       "      <td>/pnfs/desy.de/cms/tier2/store/user/drberry/SFrameNtuples/RunII_102X_v1/2018/QCD_Pt-800to1000_MuEnrichedPt5_TuneCP5_13TeV_pythia8/QCD_Pt-800to1000_MuEnrichedPt5_TuneCP5_13TeV_pythia8_ext3-v2/190419...</td>\n",
       "      <td>504.46</td>\n",
       "      <td>drberry</td>\n",
       "      <td>2018</td>\n",
       "      <td>2018</td>\n",
       "      <td>False</td>\n",
       "      <td>NaN</td>\n",
       "    </tr>\n",
       "  </tbody>\n",
       "</table>\n",
       "</div>"
      ],
      "text/plain": [
       "                                                                                                                                                                                                    ntuple  \\\n",
       "0  /pnfs/desy.de/cms/tier2/store/user/drberry/SFrameNtuples/RunII_102X_v1/2018/QCD_Pt-800to1000_MuEnrichedPt5_TuneCP5_13TeV_pythia8/QCD_Pt-800to1000_MuEnrichedPt5_TuneCP5_13TeV_pythia8_ext3-v2/190419...   \n",
       "1  /pnfs/desy.de/cms/tier2/store/user/drberry/SFrameNtuples/RunII_102X_v1/2018/QCD_Pt-800to1000_MuEnrichedPt5_TuneCP5_13TeV_pythia8/QCD_Pt-800to1000_MuEnrichedPt5_TuneCP5_13TeV_pythia8_ext3-v2/190419...   \n",
       "2  /pnfs/desy.de/cms/tier2/store/user/drberry/SFrameNtuples/RunII_102X_v1/2018/QCD_Pt-800to1000_MuEnrichedPt5_TuneCP5_13TeV_pythia8/QCD_Pt-800to1000_MuEnrichedPt5_TuneCP5_13TeV_pythia8_ext3-v2/190419...   \n",
       "3  /pnfs/desy.de/cms/tier2/store/user/drberry/SFrameNtuples/RunII_102X_v1/2018/QCD_Pt-800to1000_MuEnrichedPt5_TuneCP5_13TeV_pythia8/QCD_Pt-800to1000_MuEnrichedPt5_TuneCP5_13TeV_pythia8_ext3-v2/190419...   \n",
       "4  /pnfs/desy.de/cms/tier2/store/user/drberry/SFrameNtuples/RunII_102X_v1/2018/QCD_Pt-800to1000_MuEnrichedPt5_TuneCP5_13TeV_pythia8/QCD_Pt-800to1000_MuEnrichedPt5_TuneCP5_13TeV_pythia8_ext3-v2/190419...   \n",
       "\n",
       "    size     user xmldir  year  isdata dataset  \n",
       "0 514.20  drberry   2018  2018   False     NaN  \n",
       "1 503.68  drberry   2018  2018   False     NaN  \n",
       "2 554.39  drberry   2018  2018   False     NaN  \n",
       "3 504.66  drberry   2018  2018   False     NaN  \n",
       "4 504.46  drberry   2018  2018   False     NaN  "
      ]
     },
     "execution_count": 33,
     "metadata": {},
     "output_type": "execute_result"
    }
   ],
   "source": [
    "df.head()"
   ]
  },
  {
   "cell_type": "code",
   "execution_count": 34,
   "metadata": {
    "slideshow": {
     "slide_type": "skip"
    }
   },
   "outputs": [
    {
     "data": {
      "text/plain": [
       "ntuple       object\n",
       "size        float64\n",
       "user       category\n",
       "xmldir     category\n",
       "year       category\n",
       "isdata         bool\n",
       "dataset    category\n",
       "dtype: object"
      ]
     },
     "execution_count": 34,
     "metadata": {},
     "output_type": "execute_result"
    }
   ],
   "source": [
    "df.dtypes"
   ]
  },
  {
   "cell_type": "code",
   "execution_count": 35,
   "metadata": {
    "slideshow": {
     "slide_type": "skip"
    }
   },
   "outputs": [],
   "source": [
    "total_size_mb = df['size'].sum()\n",
    "MB_TO_TB = 1024*1024."
   ]
  },
  {
   "cell_type": "markdown",
   "metadata": {},
   "source": [
    "## General stats"
   ]
  },
  {
   "cell_type": "code",
   "execution_count": 47,
   "metadata": {
    "slideshow": {
     "slide_type": "skip"
    }
   },
   "outputs": [
    {
     "name": "stdout",
     "output_type": "stream",
     "text": [
      "192704 files\n"
     ]
    }
   ],
   "source": [
    "print(len(df.index), \"files\")"
   ]
  },
  {
   "cell_type": "code",
   "execution_count": 48,
   "metadata": {
    "slideshow": {
     "slide_type": "slide"
    }
   },
   "outputs": [
    {
     "name": "stdout",
     "output_type": "stream",
     "text": [
      "Total size of all ntuples: 54.245 TB\n"
     ]
    }
   ],
   "source": [
    "print(\"Total size of all ntuples: %.3f TB\" % (total_size_mb / MB_TO_TB))\n",
    "# NB be careful - don't access with df.size as calls internal size!"
   ]
  },
  {
   "cell_type": "code",
   "execution_count": 49,
   "metadata": {
    "slideshow": {
     "slide_type": "-"
    }
   },
   "outputs": [
    {
     "name": "stdout",
     "output_type": "stream",
     "text": [
      "Average space used per user: 6.781 TB\n"
     ]
    }
   ],
   "source": [
    "print('Average space used per user: %.3f TB' % (total_size_mb / (MB_TO_TB * df['user'].nunique())))"
   ]
  },
  {
   "cell_type": "code",
   "execution_count": 50,
   "metadata": {
    "slideshow": {
     "slide_type": "slide"
    }
   },
   "outputs": [
    {
     "name": "stdout",
     "output_type": "stream",
     "text": [
      "Statistics for ntuple filesizes:\n"
     ]
    },
    {
     "data": {
      "text/plain": [
       "count   192704.00\n",
       "mean       295.17\n",
       "std        224.62\n",
       "min          0.37\n",
       "25%        191.66\n",
       "50%        245.85\n",
       "75%        375.12\n",
       "max       3808.24\n",
       "Name: size, dtype: float64"
      ]
     },
     "execution_count": 50,
     "metadata": {},
     "output_type": "execute_result"
    }
   ],
   "source": [
    "print(\"Statistics for ntuple filesizes:\")\n",
    "df['size'].describe()"
   ]
  },
  {
   "cell_type": "code",
   "execution_count": 51,
   "metadata": {
    "slideshow": {
     "slide_type": "subslide"
    }
   },
   "outputs": [
    {
     "data": {
      "image/png": "[encoded data removed]",
      "text/plain": [
       "<Figure size 720x432 with 1 Axes>"
      ]
     },
     "metadata": {
      "needs_background": "light"
     },
     "output_type": "display_data"
    }
   ],
   "source": [
    "df['size'].plot(kind='hist', bins=50);\n",
    "plt.xlabel('Ntuple size [MB]');\n",
    "plt.title(\"Histogram of ntuple filesize (linear y-axis)\");"
   ]
  },
  {
   "cell_type": "code",
   "execution_count": 52,
   "metadata": {
    "slideshow": {
     "slide_type": "subslide"
    }
   },
   "outputs": [
    {
     "data": {
      "image/png": "[encoded data removed]",
      "text/plain": [
       "<Figure size 720x432 with 1 Axes>"
      ]
     },
     "metadata": {
      "needs_background": "light"
     },
     "output_type": "display_data"
    }
   ],
   "source": [
    "df['size'].plot(kind='hist', bins=50);\n",
    "plt.xlabel('Ntuple size [MB]');\n",
    "plt.yscale('log');\n",
    "plt.title(\"Histogram of ntuple filesize (log y-axis)\");"
   ]
  },
  {
   "cell_type": "markdown",
   "metadata": {
    "slideshow": {
     "slide_type": "slide"
    }
   },
   "source": [
    "## Split by user"
   ]
  },
  {
   "cell_type": "code",
   "execution_count": 53,
   "metadata": {},
   "outputs": [
    {
     "name": "stdout",
     "output_type": "stream",
     "text": [
      "8 unique users\n"
     ]
    }
   ],
   "source": [
    "print(df['user'].nunique(), \"unique users\")"
   ]
  },
  {
   "cell_type": "code",
   "execution_count": 54,
   "metadata": {
    "slideshow": {
     "slide_type": "slide"
    }
   },
   "outputs": [
    {
     "name": "stdout",
     "output_type": "stream",
     "text": [
      "Total space usage per user [TB]:\n"
     ]
    },
    {
     "data": {
      "text/plain": [
       "user\n",
       "afroehli    0.74\n",
       "akaravdi   36.08\n",
       "deschwar    1.42\n",
       "drberry     4.68\n",
       "izoi        0.01\n",
       "raggleto    6.62\n",
       "rkogler     1.45\n",
       "tiroy       3.24\n",
       "Name: size, dtype: float64"
      ]
     },
     "execution_count": 54,
     "metadata": {},
     "output_type": "execute_result"
    }
   ],
   "source": [
    "print(\"Total space usage per user [TB]:\")\n",
    "df.groupby('user')['size'].sum() / MB_TO_TB"
   ]
  },
  {
   "cell_type": "code",
   "execution_count": 55,
   "metadata": {
    "slideshow": {
     "slide_type": "subslide"
    }
   },
   "outputs": [
    {
     "name": "stdout",
     "output_type": "stream",
     "text": [
      "% space usage by user:\n"
     ]
    },
    {
     "data": {
      "text/plain": [
       "user\n",
       "afroehli    1.37\n",
       "akaravdi   66.51\n",
       "deschwar    2.62\n",
       "drberry     8.64\n",
       "izoi        0.02\n",
       "raggleto   12.20\n",
       "rkogler     2.67\n",
       "tiroy       5.97\n",
       "Name: size, dtype: float64"
      ]
     },
     "execution_count": 55,
     "metadata": {},
     "output_type": "execute_result"
    }
   ],
   "source": [
    "print(\"% space usage by user:\")\n",
    "100 * df.groupby('user')['size'].sum() / total_size_mb"
   ]
  },
  {
   "cell_type": "code",
   "execution_count": 56,
   "metadata": {
    "slideshow": {
     "slide_type": "slide"
    }
   },
   "outputs": [
    {
     "name": "stdout",
     "output_type": "stream",
     "text": [
      "# files per user:\n"
     ]
    },
    {
     "data": {
      "text/plain": [
       "akaravdi    140999\n",
       "drberry      17510\n",
       "tiroy         9587\n",
       "deschwar      8466\n",
       "raggleto      8447\n",
       "afroehli      5094\n",
       "rkogler       2563\n",
       "izoi            38\n",
       "Name: user, dtype: int64"
      ]
     },
     "execution_count": 56,
     "metadata": {},
     "output_type": "execute_result"
    }
   ],
   "source": [
    "print('# files per user:')\n",
    "df.user.value_counts()"
   ]
  },
  {
   "cell_type": "code",
   "execution_count": 57,
   "metadata": {
    "slideshow": {
     "slide_type": "subslide"
    }
   },
   "outputs": [
    {
     "data": {
      "image/png": "[encoded data removed]",
      "text/plain": [
       "<Figure size 720x432 with 1 Axes>"
      ]
     },
     "metadata": {
      "needs_background": "light"
     },
     "output_type": "display_data"
    }
   ],
   "source": [
    "df.user.value_counts().plot(kind='bar');\n",
    "plt.xlabel('User');\n",
    "plt.ylabel('# files');"
   ]
  },
  {
   "cell_type": "markdown",
   "metadata": {
    "slideshow": {
     "slide_type": "slide"
    }
   },
   "source": [
    "## Split by dataset year"
   ]
  },
  {
   "cell_type": "code",
   "execution_count": 58,
   "metadata": {
    "slideshow": {
     "slide_type": "slide"
    }
   },
   "outputs": [
    {
     "name": "stdout",
     "output_type": "stream",
     "text": [
      "Total space usage per dataset year [TB]:\n"
     ]
    },
    {
     "data": {
      "text/plain": [
       "year\n",
       "2016v2    0.01\n",
       "2016v3   12.86\n",
       "2017      0.00\n",
       "2018     41.37\n",
       "Name: size, dtype: float64"
      ]
     },
     "execution_count": 58,
     "metadata": {},
     "output_type": "execute_result"
    }
   ],
   "source": [
    "print('Total space usage per dataset year [TB]:')\n",
    "df.groupby('year')['size'].sum() / MB_TO_TB"
   ]
  },
  {
   "cell_type": "code",
   "execution_count": 59,
   "metadata": {
    "slideshow": {
     "slide_type": "subslide"
    }
   },
   "outputs": [
    {
     "name": "stdout",
     "output_type": "stream",
     "text": [
      "% space usage per dataset year:\n"
     ]
    },
    {
     "data": {
      "text/plain": [
       "year\n",
       "2016v2    0.02\n",
       "2016v3   23.71\n",
       "2017      0.01\n",
       "2018     76.26\n",
       "Name: size, dtype: float64"
      ]
     },
     "execution_count": 59,
     "metadata": {},
     "output_type": "execute_result"
    }
   ],
   "source": [
    "print('% space usage per dataset year:')\n",
    "100. * df.groupby('year')['size'].sum() / total_size_mb"
   ]
  },
  {
   "cell_type": "code",
   "execution_count": 60,
   "metadata": {
    "slideshow": {
     "slide_type": "slide"
    }
   },
   "outputs": [
    {
     "name": "stdout",
     "output_type": "stream",
     "text": [
      "# files per dataset year:\n"
     ]
    },
    {
     "data": {
      "text/plain": [
       "2018      165054\n",
       "2016v3     27311\n",
       "2017         198\n",
       "2016v2       141\n",
       "Name: year, dtype: int64"
      ]
     },
     "execution_count": 60,
     "metadata": {},
     "output_type": "execute_result"
    }
   ],
   "source": [
    "print(\"# files per dataset year:\")\n",
    "df['year'].value_counts()"
   ]
  },
  {
   "cell_type": "markdown",
   "metadata": {
    "slideshow": {
     "slide_type": "slide"
    }
   },
   "source": [
    "## Split by data/MC"
   ]
  },
  {
   "cell_type": "code",
   "execution_count": 61,
   "metadata": {
    "slideshow": {
     "slide_type": "slide"
    }
   },
   "outputs": [
    {
     "name": "stdout",
     "output_type": "stream",
     "text": [
      "Total space used per data/MC [TB]:\n"
     ]
    },
    {
     "data": {
      "text/plain": [
       "isdata\n",
       "False   38.35\n",
       "True    15.90\n",
       "Name: size, dtype: float64"
      ]
     },
     "execution_count": 61,
     "metadata": {},
     "output_type": "execute_result"
    }
   ],
   "source": [
    "print('Total space used per data/MC [TB]:')\n",
    "df.groupby('isdata')['size'].sum() / MB_TO_TB"
   ]
  },
  {
   "cell_type": "code",
   "execution_count": 62,
   "metadata": {
    "slideshow": {
     "slide_type": "subslide"
    }
   },
   "outputs": [
    {
     "name": "stdout",
     "output_type": "stream",
     "text": [
      "Total space used per primary dataset [TB]:\n"
     ]
    },
    {
     "data": {
      "text/plain": [
       "dataset\n",
       "EGamma     4.79\n",
       "JetHT      8.65\n",
       "SingleMu   2.45\n",
       "Name: size, dtype: float64"
      ]
     },
     "execution_count": 62,
     "metadata": {},
     "output_type": "execute_result"
    }
   ],
   "source": [
    "print('Total space used per primary dataset [TB]:')\n",
    "df[df['isdata']].groupby('dataset')['size'].sum() / MB_TO_TB"
   ]
  },
  {
   "cell_type": "code",
   "execution_count": null,
   "metadata": {},
   "outputs": [],
   "source": []
  }
 ],
 "metadata": {
  "kernelspec": {
   "display_name": "Python 3",
   "language": "python",
   "name": "python3"
  },
  "language_info": {
   "codemirror_mode": {
    "name": "ipython",
    "version": 3
   },
   "file_extension": ".py",
   "mimetype": "text/x-python",
   "name": "python",
   "nbconvert_exporter": "python",
   "pygments_lexer": "ipython3",
   "version": "3.7.1"
  }
 },
 "nbformat": 4,
 "nbformat_minor": 2
}
